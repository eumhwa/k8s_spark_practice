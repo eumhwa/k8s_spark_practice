{
 "cells": [
  {
   "cell_type": "code",
   "execution_count": 1,
   "id": "dc478bde-c163-426e-96f3-ec4105e01001",
   "metadata": {},
   "outputs": [],
   "source": [
    "from pyspark import SparkContext, SparkConf"
   ]
  },
  {
   "cell_type": "markdown",
   "id": "e775c52d-1e7e-448d-abbb-e9700096cbc1",
   "metadata": {},
   "source": [
    "# SparkContext 생성"
   ]
  },
  {
   "cell_type": "code",
   "execution_count": 2,
   "id": "e907cb67-8e9c-4b4e-ae48-4048728c88c8",
   "metadata": {},
   "outputs": [],
   "source": [
    "sc.stop() #pyspark 실행시 자동으로 기본 sparkcontext생성됨. 따라서 재정의 위해선 해당 구문 필요"
   ]
  },
  {
   "cell_type": "code",
   "execution_count": 3,
   "id": "f14faca4-7bb1-4168-89d4-738144c397af",
   "metadata": {},
   "outputs": [],
   "source": [
    "conf = SparkConf().setAppName(\"RDD_test\").setMaster(\"spark://spark-master:7077\")\n",
    "conf.set(\"spark.executer.memory\", \"1g\").set(\"spark.executer.cores\", \"1\").set(\"spark.shuffle.service.enabled\", \"false\")\\\n",
    ".set(\"spark.dynamicAllocation.enabled\", \"false\")\n",
    "\n",
    "sc = SparkContext(conf=conf)"
   ]
  },
  {
   "cell_type": "code",
   "execution_count": 4,
   "id": "cd065703-ce69-4c5c-9f26-daaee5c070b9",
   "metadata": {},
   "outputs": [
    {
     "name": "stdout",
     "output_type": "stream",
     "text": [
      "<class 'pyspark.rdd.PipelinedRDD'>\n"
     ]
    }
   ],
   "source": [
    "data = range(1, 11)\n",
    "rangeRDD = sc.parallelize(data, 8)\n",
    "\n",
    "print(type(rangeRDD))"
   ]
  },
  {
   "cell_type": "code",
   "execution_count": 5,
   "id": "7ae6859f-d16b-4330-8989-5c82dd86b024",
   "metadata": {},
   "outputs": [
    {
     "name": "stdout",
     "output_type": "stream",
     "text": [
      "number of partitions: 8\n",
      "id of rdd: 1\n"
     ]
    }
   ],
   "source": [
    "print(f\"number of partitions: {rangeRDD.getNumPartitions()}\")\n",
    "print(f\"id of rdd: {rangeRDD.id()}\")"
   ]
  },
  {
   "cell_type": "markdown",
   "id": "24758a7d-79d9-4ff6-94a7-411974dea3b0",
   "metadata": {},
   "source": [
    "# Lazy Evaluation"
   ]
  },
  {
   "cell_type": "code",
   "execution_count": 6,
   "id": "d4b82eac-5097-44f2-9368-f66bf65608de",
   "metadata": {},
   "outputs": [
    {
     "name": "stdout",
     "output_type": "stream",
     "text": [
      "CPU times: user 21 µs, sys: 1 µs, total: 22 µs\n",
      "Wall time: 24.8 µs\n"
     ]
    },
    {
     "data": {
      "text/plain": [
       "PythonRDD[2] at RDD at PythonRDD.scala:53"
      ]
     },
     "execution_count": 6,
     "metadata": {},
     "output_type": "execute_result"
    }
   ],
   "source": [
    "%%time\n",
    "rangeRDD.map(lambda x: 2*x)"
   ]
  },
  {
   "cell_type": "code",
   "execution_count": 7,
   "id": "b08292d0-5e53-4722-bf22-1daf29d44958",
   "metadata": {},
   "outputs": [
    {
     "name": "stdout",
     "output_type": "stream",
     "text": [
      "CPU times: user 29 µs, sys: 0 ns, total: 29 µs\n",
      "Wall time: 33.1 µs\n"
     ]
    },
    {
     "data": {
      "text/plain": [
       "PythonRDD[3] at RDD at PythonRDD.scala:53"
      ]
     },
     "execution_count": 7,
     "metadata": {},
     "output_type": "execute_result"
    }
   ],
   "source": [
    "%%time\n",
    "rangeRDD.map(lambda x: 2*x).map(lambda x: 4*x)"
   ]
  },
  {
   "cell_type": "code",
   "execution_count": 8,
   "id": "66ef1b44-841d-4e14-9662-edf9d5e40185",
   "metadata": {},
   "outputs": [
    {
     "name": "stdout",
     "output_type": "stream",
     "text": [
      "CPU times: user 6.81 ms, sys: 6.02 ms, total: 12.8 ms\n",
      "Wall time: 7.4 s\n"
     ]
    },
    {
     "data": {
      "text/plain": [
       "[8, 16, 24, 32, 40, 48, 56, 64, 72, 80]"
      ]
     },
     "execution_count": 8,
     "metadata": {},
     "output_type": "execute_result"
    }
   ],
   "source": [
    "%%time\n",
    "rangeRDD.map(lambda x: 2*x).map(lambda x: 4*x).collect()"
   ]
  },
  {
   "cell_type": "code",
   "execution_count": null,
   "id": "aa529490-6090-4a62-9abf-47d7fc3ab66d",
   "metadata": {},
   "outputs": [],
   "source": []
  }
 ],
 "metadata": {
  "kernelspec": {
   "display_name": "Python 3",
   "language": "python",
   "name": "python3"
  },
  "language_info": {
   "codemirror_mode": {
    "name": "ipython",
    "version": 3
   },
   "file_extension": ".py",
   "mimetype": "text/x-python",
   "name": "python",
   "nbconvert_exporter": "python",
   "pygments_lexer": "ipython3",
   "version": "3.8.11"
  }
 },
 "nbformat": 4,
 "nbformat_minor": 5
}
